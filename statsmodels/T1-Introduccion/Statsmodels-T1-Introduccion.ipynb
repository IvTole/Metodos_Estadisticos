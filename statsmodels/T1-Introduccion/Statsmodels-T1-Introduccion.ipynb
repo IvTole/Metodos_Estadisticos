{
 "cells": [
  {
   "cell_type": "markdown",
   "id": "ab71b2ee-f6cb-4365-8066-6dc9e64fefe5",
   "metadata": {},
   "source": [
    "# Introducción a la paquetería Statsmodels de Python\n",
    "\n",
    "`statsmodels` es una biblioteca de Python diseñada específicamente para el análaisis estadístico clásico, orientada a la inferencia estadística, permitiendo explorar, estimar y evaluar modelos con base en fundamentos teóricos rigurosos."
   ]
  },
  {
   "cell_type": "markdown",
   "id": "cf616354-3a98-4815-b984-83d6a54398cf",
   "metadata": {},
   "source": [
    "## Importación de librerías"
   ]
  },
  {
   "cell_type": "code",
   "execution_count": 34,
   "id": "b05b806b-4f7d-4265-898b-fbfbc6b241d0",
   "metadata": {},
   "outputs": [],
   "source": [
    "import numpy as np # utilizada para operaciones numéricas y manejo de arrays\n",
    "import pandas as pd # herramienta fundamental para manipular y analizar datos estructurados (DataFrames)\n",
    "import statsmodels.api as sm # Interfaz principal de statsmodels, de bajo nivel\n",
    "import statsmodels.formula.api as smf # Interfaz basada en fórmulas (estilo R), útil para especificar modelos de forma más intuitiva\n",
    "import matplotlib.pyplot as plt # utilizada para realizar gráficos"
   ]
  },
  {
   "cell_type": "markdown",
   "id": "f78de878-0681-4be4-aa43-25cfeaf367bb",
   "metadata": {},
   "source": [
    "## Importación de dataset\n",
    "\n",
    "El dataset importado en este caso viene ya dentro de la paquetería de `statsmodels`. Se carga el dataset \"Guerry\" desde el paquete \"HistData\", disponible en statsmodels, que contiene datos históricos sobre crimen, alfabetización, y otras variables socioeconómicas en departamentos de Francia en el siglo XIX. El conjunto de datos proviene del trabajo de André-Michel Guerry (1833), quien utilizó estadísticas sociales para analizar temas como el crimen y la educación. Este dataset es muy utilizado para practicar regresión, visualización y exploración de datos."
   ]
  },
  {
   "cell_type": "code",
   "execution_count": 6,
   "id": "635f776a-e8be-4faa-a7b1-220bb4ca0044",
   "metadata": {},
   "outputs": [],
   "source": [
    "df = sm.datasets.get_rdataset(\"Guerry\", \"HistData\").data"
   ]
  },
  {
   "cell_type": "code",
   "execution_count": 7,
   "id": "b79a11d1-736f-4b77-8e82-609a233fa10c",
   "metadata": {},
   "outputs": [
    {
     "data": {
      "text/plain": [
       "pandas.core.frame.DataFrame"
      ]
     },
     "execution_count": 7,
     "metadata": {},
     "output_type": "execute_result"
    }
   ],
   "source": [
    "# Como podemos ver, esto lo carga como un objeto DataFrame de Pandas\n",
    "type(df)"
   ]
  },
  {
   "cell_type": "code",
   "execution_count": 8,
   "id": "67355e02-c178-43d9-8e8e-5fee7e69306e",
   "metadata": {},
   "outputs": [
    {
     "data": {
      "text/html": [
       "<div>\n",
       "<style scoped>\n",
       "    .dataframe tbody tr th:only-of-type {\n",
       "        vertical-align: middle;\n",
       "    }\n",
       "\n",
       "    .dataframe tbody tr th {\n",
       "        vertical-align: top;\n",
       "    }\n",
       "\n",
       "    .dataframe thead th {\n",
       "        text-align: right;\n",
       "    }\n",
       "</style>\n",
       "<table border=\"1\" class=\"dataframe\">\n",
       "  <thead>\n",
       "    <tr style=\"text-align: right;\">\n",
       "      <th></th>\n",
       "      <th>dept</th>\n",
       "      <th>Region</th>\n",
       "      <th>Department</th>\n",
       "      <th>Crime_pers</th>\n",
       "      <th>Crime_prop</th>\n",
       "      <th>Literacy</th>\n",
       "      <th>Donations</th>\n",
       "      <th>Infants</th>\n",
       "      <th>Suicides</th>\n",
       "      <th>MainCity</th>\n",
       "      <th>Wealth</th>\n",
       "      <th>Commerce</th>\n",
       "      <th>Clergy</th>\n",
       "      <th>Crime_parents</th>\n",
       "      <th>Infanticide</th>\n",
       "      <th>Donation_clergy</th>\n",
       "      <th>Lottery</th>\n",
       "      <th>Desertion</th>\n",
       "      <th>Instruction</th>\n",
       "      <th>Prostitutes</th>\n",
       "      <th>Distance</th>\n",
       "      <th>Area</th>\n",
       "      <th>Pop1831</th>\n",
       "    </tr>\n",
       "  </thead>\n",
       "  <tbody>\n",
       "    <tr>\n",
       "      <th>0</th>\n",
       "      <td>1</td>\n",
       "      <td>E</td>\n",
       "      <td>Ain</td>\n",
       "      <td>28870</td>\n",
       "      <td>15890</td>\n",
       "      <td>37</td>\n",
       "      <td>5098</td>\n",
       "      <td>33120</td>\n",
       "      <td>35039</td>\n",
       "      <td>2:Med</td>\n",
       "      <td>73</td>\n",
       "      <td>58</td>\n",
       "      <td>11</td>\n",
       "      <td>71</td>\n",
       "      <td>60</td>\n",
       "      <td>69</td>\n",
       "      <td>41</td>\n",
       "      <td>55</td>\n",
       "      <td>46</td>\n",
       "      <td>13</td>\n",
       "      <td>218.372</td>\n",
       "      <td>5762</td>\n",
       "      <td>346.03</td>\n",
       "    </tr>\n",
       "    <tr>\n",
       "      <th>1</th>\n",
       "      <td>2</td>\n",
       "      <td>N</td>\n",
       "      <td>Aisne</td>\n",
       "      <td>26226</td>\n",
       "      <td>5521</td>\n",
       "      <td>51</td>\n",
       "      <td>8901</td>\n",
       "      <td>14572</td>\n",
       "      <td>12831</td>\n",
       "      <td>2:Med</td>\n",
       "      <td>22</td>\n",
       "      <td>10</td>\n",
       "      <td>82</td>\n",
       "      <td>4</td>\n",
       "      <td>82</td>\n",
       "      <td>36</td>\n",
       "      <td>38</td>\n",
       "      <td>82</td>\n",
       "      <td>24</td>\n",
       "      <td>327</td>\n",
       "      <td>65.945</td>\n",
       "      <td>7369</td>\n",
       "      <td>513.00</td>\n",
       "    </tr>\n",
       "    <tr>\n",
       "      <th>2</th>\n",
       "      <td>3</td>\n",
       "      <td>C</td>\n",
       "      <td>Allier</td>\n",
       "      <td>26747</td>\n",
       "      <td>7925</td>\n",
       "      <td>13</td>\n",
       "      <td>10973</td>\n",
       "      <td>17044</td>\n",
       "      <td>114121</td>\n",
       "      <td>2:Med</td>\n",
       "      <td>61</td>\n",
       "      <td>66</td>\n",
       "      <td>68</td>\n",
       "      <td>46</td>\n",
       "      <td>42</td>\n",
       "      <td>76</td>\n",
       "      <td>66</td>\n",
       "      <td>16</td>\n",
       "      <td>85</td>\n",
       "      <td>34</td>\n",
       "      <td>161.927</td>\n",
       "      <td>7340</td>\n",
       "      <td>298.26</td>\n",
       "    </tr>\n",
       "    <tr>\n",
       "      <th>3</th>\n",
       "      <td>4</td>\n",
       "      <td>E</td>\n",
       "      <td>Basses-Alpes</td>\n",
       "      <td>12935</td>\n",
       "      <td>7289</td>\n",
       "      <td>46</td>\n",
       "      <td>2733</td>\n",
       "      <td>23018</td>\n",
       "      <td>14238</td>\n",
       "      <td>1:Sm</td>\n",
       "      <td>76</td>\n",
       "      <td>49</td>\n",
       "      <td>5</td>\n",
       "      <td>70</td>\n",
       "      <td>12</td>\n",
       "      <td>37</td>\n",
       "      <td>80</td>\n",
       "      <td>32</td>\n",
       "      <td>29</td>\n",
       "      <td>2</td>\n",
       "      <td>351.399</td>\n",
       "      <td>6925</td>\n",
       "      <td>155.90</td>\n",
       "    </tr>\n",
       "    <tr>\n",
       "      <th>4</th>\n",
       "      <td>5</td>\n",
       "      <td>E</td>\n",
       "      <td>Hautes-Alpes</td>\n",
       "      <td>17488</td>\n",
       "      <td>8174</td>\n",
       "      <td>69</td>\n",
       "      <td>6962</td>\n",
       "      <td>23076</td>\n",
       "      <td>16171</td>\n",
       "      <td>1:Sm</td>\n",
       "      <td>83</td>\n",
       "      <td>65</td>\n",
       "      <td>10</td>\n",
       "      <td>22</td>\n",
       "      <td>23</td>\n",
       "      <td>64</td>\n",
       "      <td>79</td>\n",
       "      <td>35</td>\n",
       "      <td>7</td>\n",
       "      <td>1</td>\n",
       "      <td>320.280</td>\n",
       "      <td>5549</td>\n",
       "      <td>129.10</td>\n",
       "    </tr>\n",
       "  </tbody>\n",
       "</table>\n",
       "</div>"
      ],
      "text/plain": [
       "   dept Region    Department  Crime_pers  ...  Prostitutes  Distance  Area  Pop1831\n",
       "0     1      E           Ain       28870  ...           13   218.372  5762   346.03\n",
       "1     2      N         Aisne       26226  ...          327    65.945  7369   513.00\n",
       "2     3      C        Allier       26747  ...           34   161.927  7340   298.26\n",
       "3     4      E  Basses-Alpes       12935  ...            2   351.399  6925   155.90\n",
       "4     5      E  Hautes-Alpes       17488  ...            1   320.280  5549   129.10\n",
       "\n",
       "[5 rows x 23 columns]"
      ]
     },
     "execution_count": 8,
     "metadata": {},
     "output_type": "execute_result"
    }
   ],
   "source": [
    "# Imprimimos las primeras líneas para ver la carga correcta de los datos\n",
    "df.head()"
   ]
  },
  {
   "cell_type": "code",
   "execution_count": 11,
   "id": "58d8805b-1fba-4ec7-94b0-2089c74587fe",
   "metadata": {},
   "outputs": [
    {
     "name": "stdout",
     "output_type": "stream",
     "text": [
      "<class 'pandas.core.frame.DataFrame'>\n",
      "RangeIndex: 86 entries, 0 to 85\n",
      "Data columns (total 23 columns):\n",
      " #   Column           Non-Null Count  Dtype  \n",
      "---  ------           --------------  -----  \n",
      " 0   dept             86 non-null     int64  \n",
      " 1   Region           85 non-null     object \n",
      " 2   Department       86 non-null     object \n",
      " 3   Crime_pers       86 non-null     int64  \n",
      " 4   Crime_prop       86 non-null     int64  \n",
      " 5   Literacy         86 non-null     int64  \n",
      " 6   Donations        86 non-null     int64  \n",
      " 7   Infants          86 non-null     int64  \n",
      " 8   Suicides         86 non-null     int64  \n",
      " 9   MainCity         86 non-null     object \n",
      " 10  Wealth           86 non-null     int64  \n",
      " 11  Commerce         86 non-null     int64  \n",
      " 12  Clergy           86 non-null     int64  \n",
      " 13  Crime_parents    86 non-null     int64  \n",
      " 14  Infanticide      86 non-null     int64  \n",
      " 15  Donation_clergy  86 non-null     int64  \n",
      " 16  Lottery          86 non-null     int64  \n",
      " 17  Desertion        86 non-null     int64  \n",
      " 18  Instruction      86 non-null     int64  \n",
      " 19  Prostitutes      86 non-null     int64  \n",
      " 20  Distance         86 non-null     float64\n",
      " 21  Area             86 non-null     int64  \n",
      " 22  Pop1831          86 non-null     float64\n",
      "dtypes: float64(2), int64(18), object(3)\n",
      "memory usage: 15.6+ KB\n"
     ]
    }
   ],
   "source": [
    "# Información del DataFrame\n",
    "df.info()"
   ]
  },
  {
   "cell_type": "markdown",
   "id": "26a27391-8621-42ed-8d6a-a4093f9b475c",
   "metadata": {},
   "source": [
    "## Sintaxis de Statsmodels\n",
    "\n",
    "Se realiza un ajuste de mínimos cuadrados ordinarios (OLS) utilizando el logaritmo natural de una variable.\n",
    "\n",
    "### Sintaxis con fórmulas (como R)"
   ]
  },
  {
   "cell_type": "code",
   "execution_count": 16,
   "id": "732b1043-a212-4ac4-a0a9-1772a31db324",
   "metadata": {},
   "outputs": [],
   "source": [
    "# Fit OLS regression\n",
    "res = smf.ols(\"Lottery ~ Literacy + np.log(Pop1831)\", data=df)"
   ]
  },
  {
   "cell_type": "code",
   "execution_count": 18,
   "id": "600ad845-86d6-44a9-b637-96b0e788b796",
   "metadata": {},
   "outputs": [
    {
     "data": {
      "text/plain": [
       "statsmodels.regression.linear_model.OLS"
      ]
     },
     "execution_count": 18,
     "metadata": {},
     "output_type": "execute_result"
    }
   ],
   "source": [
    "# El tipo de este objetos es un modelo lineal OLS de statsmodels, todavía no ha sido ajustado a los datos\n",
    "type(res)"
   ]
  },
  {
   "cell_type": "code",
   "execution_count": 20,
   "id": "72707a3a-9003-4d1f-bf7f-82ead24f61ef",
   "metadata": {},
   "outputs": [],
   "source": [
    "# Se ajusta a los datos\n",
    "lm = res.fit()"
   ]
  },
  {
   "cell_type": "code",
   "execution_count": 22,
   "id": "bf347b4d-6ab7-4e51-91d2-cacaafbeee3c",
   "metadata": {},
   "outputs": [
    {
     "data": {
      "text/plain": [
       "statsmodels.regression.linear_model.RegressionResultsWrapper"
      ]
     },
     "execution_count": 22,
     "metadata": {},
     "output_type": "execute_result"
    }
   ],
   "source": [
    "# El tipo de objeto cambia\n",
    "type(lm)"
   ]
  },
  {
   "cell_type": "code",
   "execution_count": 26,
   "id": "160910da-d6e5-463a-958d-256455bebafa",
   "metadata": {
    "collapsed": true,
    "jupyter": {
     "outputs_hidden": true
    }
   },
   "outputs": [
    {
     "data": {
      "text/html": [
       "<table class=\"simpletable\">\n",
       "<caption>OLS Regression Results</caption>\n",
       "<tr>\n",
       "  <th>Dep. Variable:</th>         <td>Lottery</td>     <th>  R-squared:         </th> <td>   0.348</td>\n",
       "</tr>\n",
       "<tr>\n",
       "  <th>Model:</th>                   <td>OLS</td>       <th>  Adj. R-squared:    </th> <td>   0.333</td>\n",
       "</tr>\n",
       "<tr>\n",
       "  <th>Method:</th>             <td>Least Squares</td>  <th>  F-statistic:       </th> <td>   22.20</td>\n",
       "</tr>\n",
       "<tr>\n",
       "  <th>Date:</th>             <td>Thu, 22 May 2025</td> <th>  Prob (F-statistic):</th> <td>1.90e-08</td>\n",
       "</tr>\n",
       "<tr>\n",
       "  <th>Time:</th>                 <td>13:59:26</td>     <th>  Log-Likelihood:    </th> <td> -379.82</td>\n",
       "</tr>\n",
       "<tr>\n",
       "  <th>No. Observations:</th>      <td>    86</td>      <th>  AIC:               </th> <td>   765.6</td>\n",
       "</tr>\n",
       "<tr>\n",
       "  <th>Df Residuals:</th>          <td>    83</td>      <th>  BIC:               </th> <td>   773.0</td>\n",
       "</tr>\n",
       "<tr>\n",
       "  <th>Df Model:</th>              <td>     2</td>      <th>                     </th>     <td> </td>   \n",
       "</tr>\n",
       "<tr>\n",
       "  <th>Covariance Type:</th>      <td>nonrobust</td>    <th>                     </th>     <td> </td>   \n",
       "</tr>\n",
       "</table>\n",
       "<table class=\"simpletable\">\n",
       "<tr>\n",
       "         <td></td>            <th>coef</th>     <th>std err</th>      <th>t</th>      <th>P>|t|</th>  <th>[0.025</th>    <th>0.975]</th>  \n",
       "</tr>\n",
       "<tr>\n",
       "  <th>Intercept</th>       <td>  246.4341</td> <td>   35.233</td> <td>    6.995</td> <td> 0.000</td> <td>  176.358</td> <td>  316.510</td>\n",
       "</tr>\n",
       "<tr>\n",
       "  <th>Literacy</th>        <td>   -0.4889</td> <td>    0.128</td> <td>   -3.832</td> <td> 0.000</td> <td>   -0.743</td> <td>   -0.235</td>\n",
       "</tr>\n",
       "<tr>\n",
       "  <th>np.log(Pop1831)</th> <td>  -31.3114</td> <td>    5.977</td> <td>   -5.239</td> <td> 0.000</td> <td>  -43.199</td> <td>  -19.424</td>\n",
       "</tr>\n",
       "</table>\n",
       "<table class=\"simpletable\">\n",
       "<tr>\n",
       "  <th>Omnibus:</th>       <td> 3.713</td> <th>  Durbin-Watson:     </th> <td>   2.019</td>\n",
       "</tr>\n",
       "<tr>\n",
       "  <th>Prob(Omnibus):</th> <td> 0.156</td> <th>  Jarque-Bera (JB):  </th> <td>   3.394</td>\n",
       "</tr>\n",
       "<tr>\n",
       "  <th>Skew:</th>          <td>-0.487</td> <th>  Prob(JB):          </th> <td>   0.183</td>\n",
       "</tr>\n",
       "<tr>\n",
       "  <th>Kurtosis:</th>      <td> 3.003</td> <th>  Cond. No.          </th> <td>    702.</td>\n",
       "</tr>\n",
       "</table><br/><br/>Notes:<br/>[1] Standard Errors assume that the covariance matrix of the errors is correctly specified."
      ],
      "text/latex": [
       "\\begin{center}\n",
       "\\begin{tabular}{lclc}\n",
       "\\toprule\n",
       "\\textbf{Dep. Variable:}    &     Lottery      & \\textbf{  R-squared:         } &     0.348   \\\\\n",
       "\\textbf{Model:}            &       OLS        & \\textbf{  Adj. R-squared:    } &     0.333   \\\\\n",
       "\\textbf{Method:}           &  Least Squares   & \\textbf{  F-statistic:       } &     22.20   \\\\\n",
       "\\textbf{Date:}             & Thu, 22 May 2025 & \\textbf{  Prob (F-statistic):} &  1.90e-08   \\\\\n",
       "\\textbf{Time:}             &     13:59:26     & \\textbf{  Log-Likelihood:    } &   -379.82   \\\\\n",
       "\\textbf{No. Observations:} &          86      & \\textbf{  AIC:               } &     765.6   \\\\\n",
       "\\textbf{Df Residuals:}     &          83      & \\textbf{  BIC:               } &     773.0   \\\\\n",
       "\\textbf{Df Model:}         &           2      & \\textbf{                     } &             \\\\\n",
       "\\textbf{Covariance Type:}  &    nonrobust     & \\textbf{                     } &             \\\\\n",
       "\\bottomrule\n",
       "\\end{tabular}\n",
       "\\begin{tabular}{lcccccc}\n",
       "                         & \\textbf{coef} & \\textbf{std err} & \\textbf{t} & \\textbf{P$> |$t$|$} & \\textbf{[0.025} & \\textbf{0.975]}  \\\\\n",
       "\\midrule\n",
       "\\textbf{Intercept}       &     246.4341  &       35.233     &     6.995  &         0.000        &      176.358    &      316.510     \\\\\n",
       "\\textbf{Literacy}        &      -0.4889  &        0.128     &    -3.832  &         0.000        &       -0.743    &       -0.235     \\\\\n",
       "\\textbf{np.log(Pop1831)} &     -31.3114  &        5.977     &    -5.239  &         0.000        &      -43.199    &      -19.424     \\\\\n",
       "\\bottomrule\n",
       "\\end{tabular}\n",
       "\\begin{tabular}{lclc}\n",
       "\\textbf{Omnibus:}       &  3.713 & \\textbf{  Durbin-Watson:     } &    2.019  \\\\\n",
       "\\textbf{Prob(Omnibus):} &  0.156 & \\textbf{  Jarque-Bera (JB):  } &    3.394  \\\\\n",
       "\\textbf{Skew:}          & -0.487 & \\textbf{  Prob(JB):          } &    0.183  \\\\\n",
       "\\textbf{Kurtosis:}      &  3.003 & \\textbf{  Cond. No.          } &     702.  \\\\\n",
       "\\bottomrule\n",
       "\\end{tabular}\n",
       "%\\caption{OLS Regression Results}\n",
       "\\end{center}\n",
       "\n",
       "Notes: \\newline\n",
       " [1] Standard Errors assume that the covariance matrix of the errors is correctly specified."
      ],
      "text/plain": [
       "<class 'statsmodels.iolib.summary.Summary'>\n",
       "\"\"\"\n",
       "                            OLS Regression Results                            \n",
       "==============================================================================\n",
       "Dep. Variable:                Lottery   R-squared:                       0.348\n",
       "Model:                            OLS   Adj. R-squared:                  0.333\n",
       "Method:                 Least Squares   F-statistic:                     22.20\n",
       "Date:                Thu, 22 May 2025   Prob (F-statistic):           1.90e-08\n",
       "Time:                        13:59:26   Log-Likelihood:                -379.82\n",
       "No. Observations:                  86   AIC:                             765.6\n",
       "Df Residuals:                      83   BIC:                             773.0\n",
       "Df Model:                           2                                         \n",
       "Covariance Type:            nonrobust                                         \n",
       "===================================================================================\n",
       "                      coef    std err          t      P>|t|      [0.025      0.975]\n",
       "-----------------------------------------------------------------------------------\n",
       "Intercept         246.4341     35.233      6.995      0.000     176.358     316.510\n",
       "Literacy           -0.4889      0.128     -3.832      0.000      -0.743      -0.235\n",
       "np.log(Pop1831)   -31.3114      5.977     -5.239      0.000     -43.199     -19.424\n",
       "==============================================================================\n",
       "Omnibus:                        3.713   Durbin-Watson:                   2.019\n",
       "Prob(Omnibus):                  0.156   Jarque-Bera (JB):                3.394\n",
       "Skew:                          -0.487   Prob(JB):                        0.183\n",
       "Kurtosis:                       3.003   Cond. No.                         702.\n",
       "==============================================================================\n",
       "\n",
       "Notes:\n",
       "[1] Standard Errors assume that the covariance matrix of the errors is correctly specified.\n",
       "\"\"\""
      ]
     },
     "execution_count": 26,
     "metadata": {},
     "output_type": "execute_result"
    }
   ],
   "source": [
    "# Podemos obtener un resumen rápido de lo encontrado en el ajuste\n",
    "lm.summary()"
   ]
  },
  {
   "cell_type": "markdown",
   "id": "53d68b2a-af1a-4701-b78b-eb7721287b58",
   "metadata": {},
   "source": [
    "Al ajustar un modelo con `statsmodels`, el método `.summary()` devuelve un ersumen estadístico completo, con las siguientes características.\n",
    "\n",
    "* **Dep. Variable**: variable dependiente (de respuesta).\n",
    "* **Model**: tipo de modelo ajustado.\n",
    "* **Method**: método de estimación.\n",
    "* **R-squared ($R^2$)**: métrica de R2, proporción de la variabilidad explicada por el modelo. Varía entre 0 y 1.\n",
    "* **Adj. R-squared**: métrica R2 ajustada, donde se penaliza la inclusión de varias variables. Se utiliza para ver la inclusión de variables irrelevantes en el modelo.\n",
    "* **F-statistic**: prueba conjunta de significancia de los regresores ($H_0:$ todos los coeficientes son iguales a cero)\n",
    "* **Prob (F-statistic)**: p-valor asociado a la prueba F.\n",
    "* **Log-Likelihood**: logaritmo de la verosimilitud (se usa en modelos más complejos).\n",
    "* **AIC/BIC**: criterios de información de Akaike y Bayesiano, útiles para comparar modelos (más bajo = mejor)\n",
    "* **No. Observations**: Número de observaciones ($n$).\n",
    "* **Df Model / Residuals**: Grados de libertad del modelos y los residuos."
   ]
  },
  {
   "cell_type": "markdown",
   "id": "2a3ee9dd-0624-4f53-9905-2bfd69b298a5",
   "metadata": {},
   "source": [
    "### Sintaxis con arrays de numpy"
   ]
  },
  {
   "cell_type": "code",
   "execution_count": 65,
   "id": "40c94d5a-e60a-4976-85ae-149a6b87853a",
   "metadata": {},
   "outputs": [],
   "source": [
    "n_obs = 100 # número de observaciones\n",
    "X = np.random.random((n_obs, 2)) # cada una de las n observaciones consta de un array de dos elementos (variables) x1 y x2.\n",
    "X = sm.add_constant(X) # agrega una nueva columna (variable) con un valor constante (por default es 1)."
   ]
  },
  {
   "cell_type": "code",
   "execution_count": 66,
   "id": "5b309405-4c0d-4b91-817c-c4acef67f903",
   "metadata": {},
   "outputs": [],
   "source": [
    "beta = [1, 0.1, 0.5] # coeficientes de la regresión\n",
    "e = np.random.random(n_obs) / 100 # se crea un error aleatorio (por default entre 0 y 1)\n",
    "y = np.dot(X, beta) + e # ecuación de una recta (multivariable)"
   ]
  },
  {
   "cell_type": "code",
   "execution_count": 70,
   "id": "95cdfac0-126e-4251-b428-e674bce1c29e",
   "metadata": {},
   "outputs": [
    {
     "data": {
      "image/png": "[encoded data removed]",
      "text/plain": [
       "<Figure size 640x480 with 1 Axes>"
      ]
     },
     "metadata": {},
     "output_type": "display_data"
    }
   ],
   "source": [
    "plt.scatter(X[:,1],y) # se hace un scatterplot con matplotlib\n",
    "plt.ylabel('y')\n",
    "plt.xlabel('x1')\n",
    "plt.show()"
   ]
  },
  {
   "cell_type": "code",
   "execution_count": 72,
   "id": "d4cdb102-d547-40b2-9d47-0999c041eff3",
   "metadata": {},
   "outputs": [
    {
     "data": {
      "image/png": "[encoded data removed]",
      "text/plain": [
       "<Figure size 640x480 with 1 Axes>"
      ]
     },
     "metadata": {},
     "output_type": "display_data"
    }
   ],
   "source": [
    "plt.scatter(X[:,2],y) # se hace un scatterplot con matplotlib\n",
    "plt.ylabel('y')\n",
    "plt.xlabel('x2')\n",
    "plt.show()"
   ]
  },
  {
   "cell_type": "markdown",
   "id": "6e356a50-bc4c-4916-920b-dfd9777abed6",
   "metadata": {},
   "source": [
    "Como se observa, se crean datos ficticios con numpy. Se utiliza la ecuación de la recta para dos variables $x_1$ y $x_2$, y se guarda todo en arrays de numpy. La interfaz principal de statsmodels `statsmodels.api.sm` puede leer de estos arrays de numpy, en lugar de un dataframe."
   ]
  },
  {
   "cell_type": "code",
   "execution_count": 73,
   "id": "90d3af8f-3c66-4939-bd22-f3d9c4579607",
   "metadata": {},
   "outputs": [],
   "source": [
    "res_2 = sm.OLS(y,X).fit()"
   ]
  },
  {
   "cell_type": "code",
   "execution_count": 74,
   "id": "9f3ce4c7-59f3-47a3-b0a8-94ba28b3e050",
   "metadata": {},
   "outputs": [
    {
     "data": {
      "text/html": [
       "<table class=\"simpletable\">\n",
       "<caption>OLS Regression Results</caption>\n",
       "<tr>\n",
       "  <th>Dep. Variable:</th>            <td>y</td>        <th>  R-squared:         </th> <td>   1.000</td> \n",
       "</tr>\n",
       "<tr>\n",
       "  <th>Model:</th>                   <td>OLS</td>       <th>  Adj. R-squared:    </th> <td>   1.000</td> \n",
       "</tr>\n",
       "<tr>\n",
       "  <th>Method:</th>             <td>Least Squares</td>  <th>  F-statistic:       </th> <td>1.385e+05</td>\n",
       "</tr>\n",
       "<tr>\n",
       "  <th>Date:</th>             <td>Thu, 22 May 2025</td> <th>  Prob (F-statistic):</th> <td>2.45e-168</td>\n",
       "</tr>\n",
       "<tr>\n",
       "  <th>Time:</th>                 <td>15:14:48</td>     <th>  Log-Likelihood:    </th> <td>  448.05</td> \n",
       "</tr>\n",
       "<tr>\n",
       "  <th>No. Observations:</th>      <td>   100</td>      <th>  AIC:               </th> <td>  -890.1</td> \n",
       "</tr>\n",
       "<tr>\n",
       "  <th>Df Residuals:</th>          <td>    97</td>      <th>  BIC:               </th> <td>  -882.3</td> \n",
       "</tr>\n",
       "<tr>\n",
       "  <th>Df Model:</th>              <td>     2</td>      <th>                     </th>     <td> </td>    \n",
       "</tr>\n",
       "<tr>\n",
       "  <th>Covariance Type:</th>      <td>nonrobust</td>    <th>                     </th>     <td> </td>    \n",
       "</tr>\n",
       "</table>\n",
       "<table class=\"simpletable\">\n",
       "<tr>\n",
       "    <td></td>       <th>coef</th>     <th>std err</th>      <th>t</th>      <th>P>|t|</th>  <th>[0.025</th>    <th>0.975]</th>  \n",
       "</tr>\n",
       "<tr>\n",
       "  <th>const</th> <td>    1.0047</td> <td>    0.001</td> <td> 1406.428</td> <td> 0.000</td> <td>    1.003</td> <td>    1.006</td>\n",
       "</tr>\n",
       "<tr>\n",
       "  <th>x1</th>    <td>    0.1007</td> <td>    0.001</td> <td>  110.674</td> <td> 0.000</td> <td>    0.099</td> <td>    0.103</td>\n",
       "</tr>\n",
       "<tr>\n",
       "  <th>x2</th>    <td>    0.4999</td> <td>    0.001</td> <td>  508.380</td> <td> 0.000</td> <td>    0.498</td> <td>    0.502</td>\n",
       "</tr>\n",
       "</table>\n",
       "<table class=\"simpletable\">\n",
       "<tr>\n",
       "  <th>Omnibus:</th>       <td>26.298</td> <th>  Durbin-Watson:     </th> <td>   2.259</td>\n",
       "</tr>\n",
       "<tr>\n",
       "  <th>Prob(Omnibus):</th> <td> 0.000</td> <th>  Jarque-Bera (JB):  </th> <td>   5.710</td>\n",
       "</tr>\n",
       "<tr>\n",
       "  <th>Skew:</th>          <td>-0.125</td> <th>  Prob(JB):          </th> <td>  0.0576</td>\n",
       "</tr>\n",
       "<tr>\n",
       "  <th>Kurtosis:</th>      <td> 1.856</td> <th>  Cond. No.          </th> <td>    5.15</td>\n",
       "</tr>\n",
       "</table><br/><br/>Notes:<br/>[1] Standard Errors assume that the covariance matrix of the errors is correctly specified."
      ],
      "text/latex": [
       "\\begin{center}\n",
       "\\begin{tabular}{lclc}\n",
       "\\toprule\n",
       "\\textbf{Dep. Variable:}    &        y         & \\textbf{  R-squared:         } &     1.000   \\\\\n",
       "\\textbf{Model:}            &       OLS        & \\textbf{  Adj. R-squared:    } &     1.000   \\\\\n",
       "\\textbf{Method:}           &  Least Squares   & \\textbf{  F-statistic:       } & 1.385e+05   \\\\\n",
       "\\textbf{Date:}             & Thu, 22 May 2025 & \\textbf{  Prob (F-statistic):} & 2.45e-168   \\\\\n",
       "\\textbf{Time:}             &     15:14:48     & \\textbf{  Log-Likelihood:    } &    448.05   \\\\\n",
       "\\textbf{No. Observations:} &         100      & \\textbf{  AIC:               } &    -890.1   \\\\\n",
       "\\textbf{Df Residuals:}     &          97      & \\textbf{  BIC:               } &    -882.3   \\\\\n",
       "\\textbf{Df Model:}         &           2      & \\textbf{                     } &             \\\\\n",
       "\\textbf{Covariance Type:}  &    nonrobust     & \\textbf{                     } &             \\\\\n",
       "\\bottomrule\n",
       "\\end{tabular}\n",
       "\\begin{tabular}{lcccccc}\n",
       "               & \\textbf{coef} & \\textbf{std err} & \\textbf{t} & \\textbf{P$> |$t$|$} & \\textbf{[0.025} & \\textbf{0.975]}  \\\\\n",
       "\\midrule\n",
       "\\textbf{const} &       1.0047  &        0.001     &  1406.428  &         0.000        &        1.003    &        1.006     \\\\\n",
       "\\textbf{x1}    &       0.1007  &        0.001     &   110.674  &         0.000        &        0.099    &        0.103     \\\\\n",
       "\\textbf{x2}    &       0.4999  &        0.001     &   508.380  &         0.000        &        0.498    &        0.502     \\\\\n",
       "\\bottomrule\n",
       "\\end{tabular}\n",
       "\\begin{tabular}{lclc}\n",
       "\\textbf{Omnibus:}       & 26.298 & \\textbf{  Durbin-Watson:     } &    2.259  \\\\\n",
       "\\textbf{Prob(Omnibus):} &  0.000 & \\textbf{  Jarque-Bera (JB):  } &    5.710  \\\\\n",
       "\\textbf{Skew:}          & -0.125 & \\textbf{  Prob(JB):          } &   0.0576  \\\\\n",
       "\\textbf{Kurtosis:}      &  1.856 & \\textbf{  Cond. No.          } &     5.15  \\\\\n",
       "\\bottomrule\n",
       "\\end{tabular}\n",
       "%\\caption{OLS Regression Results}\n",
       "\\end{center}\n",
       "\n",
       "Notes: \\newline\n",
       " [1] Standard Errors assume that the covariance matrix of the errors is correctly specified."
      ],
      "text/plain": [
       "<class 'statsmodels.iolib.summary.Summary'>\n",
       "\"\"\"\n",
       "                            OLS Regression Results                            \n",
       "==============================================================================\n",
       "Dep. Variable:                      y   R-squared:                       1.000\n",
       "Model:                            OLS   Adj. R-squared:                  1.000\n",
       "Method:                 Least Squares   F-statistic:                 1.385e+05\n",
       "Date:                Thu, 22 May 2025   Prob (F-statistic):          2.45e-168\n",
       "Time:                        15:14:48   Log-Likelihood:                 448.05\n",
       "No. Observations:                 100   AIC:                            -890.1\n",
       "Df Residuals:                      97   BIC:                            -882.3\n",
       "Df Model:                           2                                         \n",
       "Covariance Type:            nonrobust                                         \n",
       "==============================================================================\n",
       "                 coef    std err          t      P>|t|      [0.025      0.975]\n",
       "------------------------------------------------------------------------------\n",
       "const          1.0047      0.001   1406.428      0.000       1.003       1.006\n",
       "x1             0.1007      0.001    110.674      0.000       0.099       0.103\n",
       "x2             0.4999      0.001    508.380      0.000       0.498       0.502\n",
       "==============================================================================\n",
       "Omnibus:                       26.298   Durbin-Watson:                   2.259\n",
       "Prob(Omnibus):                  0.000   Jarque-Bera (JB):                5.710\n",
       "Skew:                          -0.125   Prob(JB):                       0.0576\n",
       "Kurtosis:                       1.856   Cond. No.                         5.15\n",
       "==============================================================================\n",
       "\n",
       "Notes:\n",
       "[1] Standard Errors assume that the covariance matrix of the errors is correctly specified.\n",
       "\"\"\""
      ]
     },
     "execution_count": 74,
     "metadata": {},
     "output_type": "execute_result"
    }
   ],
   "source": [
    "res_2.summary()"
   ]
  },
  {
   "cell_type": "markdown",
   "id": "637793c2-ebea-4063-8f66-bf02a1ab155d",
   "metadata": {},
   "source": [
    "## Summary del modelo ajustado\n",
    "\n",
    "Todas los valores que se observan en el resumen del modelo ajustado se encuentran almacenadas en un atributo del objeto de Python para el summary. Podemos utilizar la función `dir()`para desplegar todas los atributos que se encuentran dentro de un objeto."
   ]
  },
  {
   "cell_type": "code",
   "execution_count": 75,
   "id": "6df4ad26-9eae-4efa-8c71-ebd239b8d345",
   "metadata": {
    "scrolled": true
   },
   "outputs": [
    {
     "data": {
      "text/plain": [
       "['HC0_se',\n",
       " 'HC1_se',\n",
       " 'HC2_se',\n",
       " 'HC3_se',\n",
       " '_HCCM',\n",
       " '__class__',\n",
       " '__delattr__',\n",
       " '__dict__',\n",
       " '__dir__',\n",
       " '__doc__',\n",
       " '__eq__',\n",
       " '__format__',\n",
       " '__ge__',\n",
       " '__getattribute__',\n",
       " '__gt__',\n",
       " '__hash__',\n",
       " '__init__',\n",
       " '__init_subclass__',\n",
       " '__le__',\n",
       " '__lt__',\n",
       " '__module__',\n",
       " '__ne__',\n",
       " '__new__',\n",
       " '__reduce__',\n",
       " '__reduce_ex__',\n",
       " '__repr__',\n",
       " '__setattr__',\n",
       " '__sizeof__',\n",
       " '__str__',\n",
       " '__subclasshook__',\n",
       " '__weakref__',\n",
       " '_abat_diagonal',\n",
       " '_cache',\n",
       " '_data_attr',\n",
       " '_data_in_cache',\n",
       " '_get_robustcov_results',\n",
       " '_get_wald_nonlinear',\n",
       " '_is_nested',\n",
       " '_transform_predict_exog',\n",
       " '_use_t',\n",
       " '_wexog_singular_values',\n",
       " 'aic',\n",
       " 'bic',\n",
       " 'bse',\n",
       " 'centered_tss',\n",
       " 'compare_f_test',\n",
       " 'compare_lm_test',\n",
       " 'compare_lr_test',\n",
       " 'condition_number',\n",
       " 'conf_int',\n",
       " 'conf_int_el',\n",
       " 'cov_HC0',\n",
       " 'cov_HC1',\n",
       " 'cov_HC2',\n",
       " 'cov_HC3',\n",
       " 'cov_kwds',\n",
       " 'cov_params',\n",
       " 'cov_type',\n",
       " 'df_model',\n",
       " 'df_resid',\n",
       " 'diagn',\n",
       " 'eigenvals',\n",
       " 'el_test',\n",
       " 'ess',\n",
       " 'f_pvalue',\n",
       " 'f_test',\n",
       " 'fittedvalues',\n",
       " 'fvalue',\n",
       " 'get_influence',\n",
       " 'get_prediction',\n",
       " 'get_robustcov_results',\n",
       " 'info_criteria',\n",
       " 'initialize',\n",
       " 'k_constant',\n",
       " 'llf',\n",
       " 'load',\n",
       " 'model',\n",
       " 'mse_model',\n",
       " 'mse_resid',\n",
       " 'mse_total',\n",
       " 'nobs',\n",
       " 'normalized_cov_params',\n",
       " 'outlier_test',\n",
       " 'params',\n",
       " 'predict',\n",
       " 'pvalues',\n",
       " 'remove_data',\n",
       " 'resid',\n",
       " 'resid_pearson',\n",
       " 'rsquared',\n",
       " 'rsquared_adj',\n",
       " 'save',\n",
       " 'scale',\n",
       " 'ssr',\n",
       " 'summary',\n",
       " 'summary2',\n",
       " 't_test',\n",
       " 't_test_pairwise',\n",
       " 'tvalues',\n",
       " 'uncentered_tss',\n",
       " 'use_t',\n",
       " 'wald_test',\n",
       " 'wald_test_terms',\n",
       " 'wresid']"
      ]
     },
     "execution_count": 75,
     "metadata": {},
     "output_type": "execute_result"
    }
   ],
   "source": [
    "dir(res_2)"
   ]
  },
  {
   "cell_type": "markdown",
   "id": "d9be4259-a2a8-4439-9424-849067d0a488",
   "metadata": {},
   "source": [
    "Podemos llamar a cada uno de estos valores por separado. Por ejemplo, el número de observaciones."
   ]
  },
  {
   "cell_type": "code",
   "execution_count": 77,
   "id": "e39cd034-9119-4b98-91da-f9972f4677cc",
   "metadata": {},
   "outputs": [
    {
     "data": {
      "text/plain": [
       "100.0"
      ]
     },
     "execution_count": 77,
     "metadata": {},
     "output_type": "execute_result"
    }
   ],
   "source": [
    "res_2.nobs # numero de observaciones"
   ]
  }
 ],
 "metadata": {
  "kernelspec": {
   "display_name": "Python 3 (ipykernel)",
   "language": "python",
   "name": "python3"
  },
  "language_info": {
   "codemirror_mode": {
    "name": "ipython",
    "version": 3
   },
   "file_extension": ".py",
   "mimetype": "text/x-python",
   "name": "python",
   "nbconvert_exporter": "python",
   "pygments_lexer": "ipython3",
   "version": "3.10.16"
  }
 },
 "nbformat": 4,
 "nbformat_minor": 5
}
