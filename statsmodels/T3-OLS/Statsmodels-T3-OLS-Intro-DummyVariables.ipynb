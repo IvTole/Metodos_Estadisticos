{
 "cells": [
  {
   "cell_type": "markdown",
   "id": "b5ee9f4f-5cd2-4d42-92e8-bc1ceea0e844",
   "metadata": {},
   "source": [
    "## Regresión Lineal OLS con Variables Dummy\n",
    "\n",
    "En muchos contextos, los modelos de regresión lineal no solo incluyen variables numéricas, sino también **variables categóricas**, como género, región, nivel educativo, etc. Para poder incluirlas en un modelo lineal, es necesario transformarlas en **variables dummy**.\n",
    "\n",
    "Una variable dummy es una variable binaria (0 o 1) que indica la presencia o ausencia de una categoría específica.\n",
    "\n",
    "Los modelos de regresión requieren que todos los predictores sean **numéricos**. Las variables categóricas, como `\"genero\"` o `\"estado civil\"`, deben transformarse para representar cada categoría como una o más columnas binarias.\n",
    "\n",
    "Por ejemplo, si una variable `\"genero\"` tiene dos categorías: `\"masculino\"` y `\"femenino\"`, una codificación posible es:\n",
    "\n",
    "- `genero_femenino = 1` si el individuo es mujer, `0` si es hombre (la categoría omitida actúa como referencia).\n",
    "\n",
    "Esto permite al modelo estimar **diferencias de nivel en la variable respuesta** respecto a la categoría base.\n",
    "\n",
    "En un modelo con variables dummy, cada coeficiente de una categoría representa el efecto adicional sobre la variable respuesta en comparación con la categoría base (la omitida).\n",
    "\n",
    "Por ejemplo, si el coeficiente de $\\beta_{\\rm genero}$ para la variable Genero es 2000, entonces se interpreta como:\n",
    "\n",
    "    \"En promedio, las mujeres ganan 2000 unidades más que los hombres (categoría de referencia), manteniendo constantes las demás variables.\"\n",
    "\n",
    "### Precaución\n",
    "\n",
    "No se deben incluir manualmente todas las categorías como dummies sin omitir una, ya que se genera multicolinealidad perfecta (problema conocido como dummy variable trap).\n",
    "\n",
    "La elección de la categoría de referencia afecta la interpretación de los coeficientes, pero no afecta el ajuste general del modelo."
   ]
  },
  {
   "cell_type": "markdown",
   "id": "e497221e-c927-468d-9fbf-5347b242d7f5",
   "metadata": {},
   "source": [
    "## Importación de librerías"
   ]
  },
  {
   "cell_type": "code",
   "execution_count": 2,
   "id": "6db75b40-2c16-4cc0-89a4-d018c52eed4d",
   "metadata": {},
   "outputs": [],
   "source": [
    "import numpy as np\n",
    "import pandas as pd\n",
    "import matplotlib.pyplot as plt\n",
    "\n",
    "import statsmodels.api as sm\n",
    "from statsmodels.sandbox.regression.predstd import wls_prediction_std\n",
    "\n",
    "np.random.seed(42)"
   ]
  },
  {
   "cell_type": "markdown",
   "id": "20ceb3e5-6e5b-4417-b5ec-89d3ede7c82c",
   "metadata": {},
   "source": [
    "## Generación de datos ficticios"
   ]
  },
  {
   "cell_type": "code",
   "execution_count": 9,
   "id": "ee259d70-f08e-4934-915b-5987370533b9",
   "metadata": {},
   "outputs": [
    {
     "data": {
      "text/plain": [
       "array([0, 0, 0, 0, 0, 0, 0, 0, 0, 0, 0, 0, 0, 0, 0, 0, 0, 0, 0, 0, 1, 1,\n",
       "       1, 1, 1, 1, 1, 1, 1, 1, 1, 1, 1, 1, 1, 1, 1, 1, 1, 1, 2, 2, 2, 2,\n",
       "       2, 2, 2, 2, 2, 2])"
      ]
     },
     "execution_count": 9,
     "metadata": {},
     "output_type": "execute_result"
    }
   ],
   "source": [
    "n_sample = 50\n",
    "groups = np.zeros(n_sample, int) # generamos un array de puros 0's al que luego metemos 1's\n",
    "groups[20:40] = 1\n",
    "groups[40:] = 2\n",
    "groups"
   ]
  },
  {
   "cell_type": "markdown",
   "id": "f84171a4-9af8-4dd5-acc7-d6f3e8b7f00a",
   "metadata": {},
   "source": [
    "La función `pandas.get_dummies()` permite transformar variables categóricas en un conjunto de **variables dummy**.\n",
    "\n",
    "Cada categoría se convierte en una nueva columna con valores 0 o 1, indicando la ausencia o presencia de esa categoría. Por defecto, `get_dummies()` crea una columna para cada categoría, aunque puede omitirse una con el parámetro `drop_first=True` para evitar colinealidad (trampa de las variables dummy).\n",
    "\n",
    "Este método es especialmente útil cuando no se trabaja con fórmulas como en `statsmodels.formula.api`, sino directamente con matrices `X` e `y`.\n"
   ]
  },
  {
   "cell_type": "code",
   "execution_count": 10,
   "id": "315bab97-b198-4551-ad94-ad5c091b9e64",
   "metadata": {},
   "outputs": [
    {
     "data": {
      "text/plain": [
       "array([[ True, False, False],\n",
       "       [ True, False, False],\n",
       "       [ True, False, False],\n",
       "       [ True, False, False],\n",
       "       [ True, False, False],\n",
       "       [ True, False, False],\n",
       "       [ True, False, False],\n",
       "       [ True, False, False],\n",
       "       [ True, False, False],\n",
       "       [ True, False, False],\n",
       "       [ True, False, False],\n",
       "       [ True, False, False],\n",
       "       [ True, False, False],\n",
       "       [ True, False, False],\n",
       "       [ True, False, False],\n",
       "       [ True, False, False],\n",
       "       [ True, False, False],\n",
       "       [ True, False, False],\n",
       "       [ True, False, False],\n",
       "       [ True, False, False],\n",
       "       [False,  True, False],\n",
       "       [False,  True, False],\n",
       "       [False,  True, False],\n",
       "       [False,  True, False],\n",
       "       [False,  True, False],\n",
       "       [False,  True, False],\n",
       "       [False,  True, False],\n",
       "       [False,  True, False],\n",
       "       [False,  True, False],\n",
       "       [False,  True, False],\n",
       "       [False,  True, False],\n",
       "       [False,  True, False],\n",
       "       [False,  True, False],\n",
       "       [False,  True, False],\n",
       "       [False,  True, False],\n",
       "       [False,  True, False],\n",
       "       [False,  True, False],\n",
       "       [False,  True, False],\n",
       "       [False,  True, False],\n",
       "       [False,  True, False],\n",
       "       [False, False,  True],\n",
       "       [False, False,  True],\n",
       "       [False, False,  True],\n",
       "       [False, False,  True],\n",
       "       [False, False,  True],\n",
       "       [False, False,  True],\n",
       "       [False, False,  True],\n",
       "       [False, False,  True],\n",
       "       [False, False,  True],\n",
       "       [False, False,  True]])"
      ]
     },
     "execution_count": 10,
     "metadata": {},
     "output_type": "execute_result"
    }
   ],
   "source": [
    "dummy = pd.get_dummies(groups).values # el método values toma los valores y nos regresa un array\n",
    "dummy"
   ]
  },
  {
   "cell_type": "code",
   "execution_count": 13,
   "id": "d27e8d07-4fce-4a38-96d3-51b2408a7b2f",
   "metadata": {},
   "outputs": [
    {
     "data": {
      "text/plain": [
       "array([[ 0.        ,  0.        ,  0.        ,  1.        ],\n",
       "       [ 0.40816327,  0.        ,  0.        ,  1.        ],\n",
       "       [ 0.81632653,  0.        ,  0.        ,  1.        ],\n",
       "       [ 1.2244898 ,  0.        ,  0.        ,  1.        ],\n",
       "       [ 1.63265306,  0.        ,  0.        ,  1.        ],\n",
       "       [ 2.04081633,  0.        ,  0.        ,  1.        ],\n",
       "       [ 2.44897959,  0.        ,  0.        ,  1.        ],\n",
       "       [ 2.85714286,  0.        ,  0.        ,  1.        ],\n",
       "       [ 3.26530612,  0.        ,  0.        ,  1.        ],\n",
       "       [ 3.67346939,  0.        ,  0.        ,  1.        ],\n",
       "       [ 4.08163265,  0.        ,  0.        ,  1.        ],\n",
       "       [ 4.48979592,  0.        ,  0.        ,  1.        ],\n",
       "       [ 4.89795918,  0.        ,  0.        ,  1.        ],\n",
       "       [ 5.30612245,  0.        ,  0.        ,  1.        ],\n",
       "       [ 5.71428571,  0.        ,  0.        ,  1.        ],\n",
       "       [ 6.12244898,  0.        ,  0.        ,  1.        ],\n",
       "       [ 6.53061224,  0.        ,  0.        ,  1.        ],\n",
       "       [ 6.93877551,  0.        ,  0.        ,  1.        ],\n",
       "       [ 7.34693878,  0.        ,  0.        ,  1.        ],\n",
       "       [ 7.75510204,  0.        ,  0.        ,  1.        ],\n",
       "       [ 8.16326531,  1.        ,  0.        ,  1.        ],\n",
       "       [ 8.57142857,  1.        ,  0.        ,  1.        ],\n",
       "       [ 8.97959184,  1.        ,  0.        ,  1.        ],\n",
       "       [ 9.3877551 ,  1.        ,  0.        ,  1.        ],\n",
       "       [ 9.79591837,  1.        ,  0.        ,  1.        ],\n",
       "       [10.20408163,  1.        ,  0.        ,  1.        ],\n",
       "       [10.6122449 ,  1.        ,  0.        ,  1.        ],\n",
       "       [11.02040816,  1.        ,  0.        ,  1.        ],\n",
       "       [11.42857143,  1.        ,  0.        ,  1.        ],\n",
       "       [11.83673469,  1.        ,  0.        ,  1.        ],\n",
       "       [12.24489796,  1.        ,  0.        ,  1.        ],\n",
       "       [12.65306122,  1.        ,  0.        ,  1.        ],\n",
       "       [13.06122449,  1.        ,  0.        ,  1.        ],\n",
       "       [13.46938776,  1.        ,  0.        ,  1.        ],\n",
       "       [13.87755102,  1.        ,  0.        ,  1.        ],\n",
       "       [14.28571429,  1.        ,  0.        ,  1.        ],\n",
       "       [14.69387755,  1.        ,  0.        ,  1.        ],\n",
       "       [15.10204082,  1.        ,  0.        ,  1.        ],\n",
       "       [15.51020408,  1.        ,  0.        ,  1.        ],\n",
       "       [15.91836735,  1.        ,  0.        ,  1.        ],\n",
       "       [16.32653061,  0.        ,  1.        ,  1.        ],\n",
       "       [16.73469388,  0.        ,  1.        ,  1.        ],\n",
       "       [17.14285714,  0.        ,  1.        ,  1.        ],\n",
       "       [17.55102041,  0.        ,  1.        ,  1.        ],\n",
       "       [17.95918367,  0.        ,  1.        ,  1.        ],\n",
       "       [18.36734694,  0.        ,  1.        ,  1.        ],\n",
       "       [18.7755102 ,  0.        ,  1.        ,  1.        ],\n",
       "       [19.18367347,  0.        ,  1.        ,  1.        ],\n",
       "       [19.59183673,  0.        ,  1.        ,  1.        ],\n",
       "       [20.        ,  0.        ,  1.        ,  1.        ]])"
      ]
     },
     "execution_count": 13,
     "metadata": {},
     "output_type": "execute_result"
    }
   ],
   "source": [
    "# Generamos las variables de entrada\n",
    "x = np.linspace(0, 20, n_sample)\n",
    "X = np.column_stack((x, dummy[:,1:])) # se ignora la primera columna de los dummies, para no tener este problema de dummy variable trap\n",
    "# recordar entonces que la variable x1 es de referencia.\n",
    "X = sm.add_constant(X, prepend=False)\n",
    "X"
   ]
  },
  {
   "cell_type": "code",
   "execution_count": 15,
   "id": "ab285916-f566-4ce1-b2fa-8d257878d5d8",
   "metadata": {},
   "outputs": [],
   "source": [
    "# Generamos la variable target con una recta + un ruido\n",
    "\n",
    "beta = [1.0, 3.0, -3.0, 10]\n",
    "e = np.random.normal(size=n_sample)\n",
    "y_true = np.dot(X,beta) # valores de referencia sin error\n",
    "y = y_true + e # valores con error"
   ]
  },
  {
   "cell_type": "markdown",
   "id": "94985be9-a40b-47e3-9f75-1fc6460d957e",
   "metadata": {},
   "source": [
    "Como referencia, hacemos un print antes y después de quitar esta primera columna para las variables dummy."
   ]
  },
  {
   "cell_type": "code",
   "execution_count": 16,
   "id": "6fe96b07-1593-47ea-874c-3c6e8fb57857",
   "metadata": {},
   "outputs": [
    {
     "data": {
      "text/plain": [
       "array([[ True, False, False],\n",
       "       [ True, False, False],\n",
       "       [ True, False, False],\n",
       "       [ True, False, False],\n",
       "       [ True, False, False],\n",
       "       [ True, False, False],\n",
       "       [ True, False, False],\n",
       "       [ True, False, False],\n",
       "       [ True, False, False],\n",
       "       [ True, False, False],\n",
       "       [ True, False, False],\n",
       "       [ True, False, False],\n",
       "       [ True, False, False],\n",
       "       [ True, False, False],\n",
       "       [ True, False, False],\n",
       "       [ True, False, False],\n",
       "       [ True, False, False],\n",
       "       [ True, False, False],\n",
       "       [ True, False, False],\n",
       "       [ True, False, False],\n",
       "       [False,  True, False],\n",
       "       [False,  True, False],\n",
       "       [False,  True, False],\n",
       "       [False,  True, False],\n",
       "       [False,  True, False],\n",
       "       [False,  True, False],\n",
       "       [False,  True, False],\n",
       "       [False,  True, False],\n",
       "       [False,  True, False],\n",
       "       [False,  True, False],\n",
       "       [False,  True, False],\n",
       "       [False,  True, False],\n",
       "       [False,  True, False],\n",
       "       [False,  True, False],\n",
       "       [False,  True, False],\n",
       "       [False,  True, False],\n",
       "       [False,  True, False],\n",
       "       [False,  True, False],\n",
       "       [False,  True, False],\n",
       "       [False,  True, False],\n",
       "       [False, False,  True],\n",
       "       [False, False,  True],\n",
       "       [False, False,  True],\n",
       "       [False, False,  True],\n",
       "       [False, False,  True],\n",
       "       [False, False,  True],\n",
       "       [False, False,  True],\n",
       "       [False, False,  True],\n",
       "       [False, False,  True],\n",
       "       [False, False,  True]])"
      ]
     },
     "execution_count": 16,
     "metadata": {},
     "output_type": "execute_result"
    }
   ],
   "source": [
    "dummy"
   ]
  },
  {
   "cell_type": "code",
   "execution_count": 18,
   "id": "3c31494c-f721-40c2-9ff9-71d111320f1d",
   "metadata": {},
   "outputs": [
    {
     "data": {
      "text/plain": [
       "array([[False, False],\n",
       "       [False, False],\n",
       "       [False, False],\n",
       "       [False, False],\n",
       "       [False, False],\n",
       "       [False, False],\n",
       "       [False, False],\n",
       "       [False, False],\n",
       "       [False, False],\n",
       "       [False, False],\n",
       "       [False, False],\n",
       "       [False, False],\n",
       "       [False, False],\n",
       "       [False, False],\n",
       "       [False, False],\n",
       "       [False, False],\n",
       "       [False, False],\n",
       "       [False, False],\n",
       "       [False, False],\n",
       "       [False, False],\n",
       "       [ True, False],\n",
       "       [ True, False],\n",
       "       [ True, False],\n",
       "       [ True, False],\n",
       "       [ True, False],\n",
       "       [ True, False],\n",
       "       [ True, False],\n",
       "       [ True, False],\n",
       "       [ True, False],\n",
       "       [ True, False],\n",
       "       [ True, False],\n",
       "       [ True, False],\n",
       "       [ True, False],\n",
       "       [ True, False],\n",
       "       [ True, False],\n",
       "       [ True, False],\n",
       "       [ True, False],\n",
       "       [ True, False],\n",
       "       [ True, False],\n",
       "       [ True, False],\n",
       "       [False,  True],\n",
       "       [False,  True],\n",
       "       [False,  True],\n",
       "       [False,  True],\n",
       "       [False,  True],\n",
       "       [False,  True],\n",
       "       [False,  True],\n",
       "       [False,  True],\n",
       "       [False,  True],\n",
       "       [False,  True]])"
      ]
     },
     "execution_count": 18,
     "metadata": {},
     "output_type": "execute_result"
    }
   ],
   "source": [
    "dummy[:,1:] # se había ignorado la primera columna y ésta pasa a ser la referencia"
   ]
  },
  {
   "cell_type": "markdown",
   "id": "72d2bab7-82bc-4a68-92ce-0c330823b269",
   "metadata": {},
   "source": [
    "## Modelo de regresión lineal ordinaria OLS"
   ]
  },
  {
   "cell_type": "code",
   "execution_count": 19,
   "id": "9fbfe30f-3fee-4e25-bd7b-eadafb2d8eed",
   "metadata": {},
   "outputs": [
    {
     "data": {
      "text/html": [
       "<table class=\"simpletable\">\n",
       "<caption>OLS Regression Results</caption>\n",
       "<tr>\n",
       "  <th>Dep. Variable:</th>            <td>y</td>        <th>  R-squared:         </th> <td>   0.979</td>\n",
       "</tr>\n",
       "<tr>\n",
       "  <th>Model:</th>                   <td>OLS</td>       <th>  Adj. R-squared:    </th> <td>   0.977</td>\n",
       "</tr>\n",
       "<tr>\n",
       "  <th>Method:</th>             <td>Least Squares</td>  <th>  F-statistic:       </th> <td>   704.8</td>\n",
       "</tr>\n",
       "<tr>\n",
       "  <th>Date:</th>             <td>Thu, 29 May 2025</td> <th>  Prob (F-statistic):</th> <td>1.93e-38</td>\n",
       "</tr>\n",
       "<tr>\n",
       "  <th>Time:</th>                 <td>00:42:02</td>     <th>  Log-Likelihood:    </th> <td> -63.417</td>\n",
       "</tr>\n",
       "<tr>\n",
       "  <th>No. Observations:</th>      <td>    50</td>      <th>  AIC:               </th> <td>   134.8</td>\n",
       "</tr>\n",
       "<tr>\n",
       "  <th>Df Residuals:</th>          <td>    46</td>      <th>  BIC:               </th> <td>   142.5</td>\n",
       "</tr>\n",
       "<tr>\n",
       "  <th>Df Model:</th>              <td>     3</td>      <th>                     </th>     <td> </td>   \n",
       "</tr>\n",
       "<tr>\n",
       "  <th>Covariance Type:</th>      <td>nonrobust</td>    <th>                     </th>     <td> </td>   \n",
       "</tr>\n",
       "</table>\n",
       "<table class=\"simpletable\">\n",
       "<tr>\n",
       "    <td></td>       <th>coef</th>     <th>std err</th>      <th>t</th>      <th>P>|t|</th>  <th>[0.025</th>    <th>0.975]</th>  \n",
       "</tr>\n",
       "<tr>\n",
       "  <th>x1</th>    <td>    0.9827</td> <td>    0.058</td> <td>   16.810</td> <td> 0.000</td> <td>    0.865</td> <td>    1.100</td>\n",
       "</tr>\n",
       "<tr>\n",
       "  <th>x2</th>    <td>    3.0755</td> <td>    0.555</td> <td>    5.540</td> <td> 0.000</td> <td>    1.958</td> <td>    4.193</td>\n",
       "</tr>\n",
       "<tr>\n",
       "  <th>x3</th>    <td>   -2.9948</td> <td>    0.905</td> <td>   -3.311</td> <td> 0.002</td> <td>   -4.816</td> <td>   -1.174</td>\n",
       "</tr>\n",
       "<tr>\n",
       "  <th>const</th> <td>   10.1591</td> <td>    0.303</td> <td>   33.566</td> <td> 0.000</td> <td>    9.550</td> <td>   10.768</td>\n",
       "</tr>\n",
       "</table>\n",
       "<table class=\"simpletable\">\n",
       "<tr>\n",
       "  <th>Omnibus:</th>       <td> 5.000</td> <th>  Durbin-Watson:     </th> <td>   2.209</td>\n",
       "</tr>\n",
       "<tr>\n",
       "  <th>Prob(Omnibus):</th> <td> 0.082</td> <th>  Jarque-Bera (JB):  </th> <td>   3.852</td>\n",
       "</tr>\n",
       "<tr>\n",
       "  <th>Skew:</th>          <td>-0.585</td> <th>  Prob(JB):          </th> <td>   0.146</td>\n",
       "</tr>\n",
       "<tr>\n",
       "  <th>Kurtosis:</th>      <td> 3.692</td> <th>  Cond. No.          </th> <td>    96.3</td>\n",
       "</tr>\n",
       "</table><br/><br/>Notes:<br/>[1] Standard Errors assume that the covariance matrix of the errors is correctly specified."
      ],
      "text/latex": [
       "\\begin{center}\n",
       "\\begin{tabular}{lclc}\n",
       "\\toprule\n",
       "\\textbf{Dep. Variable:}    &        y         & \\textbf{  R-squared:         } &     0.979   \\\\\n",
       "\\textbf{Model:}            &       OLS        & \\textbf{  Adj. R-squared:    } &     0.977   \\\\\n",
       "\\textbf{Method:}           &  Least Squares   & \\textbf{  F-statistic:       } &     704.8   \\\\\n",
       "\\textbf{Date:}             & Thu, 29 May 2025 & \\textbf{  Prob (F-statistic):} &  1.93e-38   \\\\\n",
       "\\textbf{Time:}             &     00:42:02     & \\textbf{  Log-Likelihood:    } &   -63.417   \\\\\n",
       "\\textbf{No. Observations:} &          50      & \\textbf{  AIC:               } &     134.8   \\\\\n",
       "\\textbf{Df Residuals:}     &          46      & \\textbf{  BIC:               } &     142.5   \\\\\n",
       "\\textbf{Df Model:}         &           3      & \\textbf{                     } &             \\\\\n",
       "\\textbf{Covariance Type:}  &    nonrobust     & \\textbf{                     } &             \\\\\n",
       "\\bottomrule\n",
       "\\end{tabular}\n",
       "\\begin{tabular}{lcccccc}\n",
       "               & \\textbf{coef} & \\textbf{std err} & \\textbf{t} & \\textbf{P$> |$t$|$} & \\textbf{[0.025} & \\textbf{0.975]}  \\\\\n",
       "\\midrule\n",
       "\\textbf{x1}    &       0.9827  &        0.058     &    16.810  &         0.000        &        0.865    &        1.100     \\\\\n",
       "\\textbf{x2}    &       3.0755  &        0.555     &     5.540  &         0.000        &        1.958    &        4.193     \\\\\n",
       "\\textbf{x3}    &      -2.9948  &        0.905     &    -3.311  &         0.002        &       -4.816    &       -1.174     \\\\\n",
       "\\textbf{const} &      10.1591  &        0.303     &    33.566  &         0.000        &        9.550    &       10.768     \\\\\n",
       "\\bottomrule\n",
       "\\end{tabular}\n",
       "\\begin{tabular}{lclc}\n",
       "\\textbf{Omnibus:}       &  5.000 & \\textbf{  Durbin-Watson:     } &    2.209  \\\\\n",
       "\\textbf{Prob(Omnibus):} &  0.082 & \\textbf{  Jarque-Bera (JB):  } &    3.852  \\\\\n",
       "\\textbf{Skew:}          & -0.585 & \\textbf{  Prob(JB):          } &    0.146  \\\\\n",
       "\\textbf{Kurtosis:}      &  3.692 & \\textbf{  Cond. No.          } &     96.3  \\\\\n",
       "\\bottomrule\n",
       "\\end{tabular}\n",
       "%\\caption{OLS Regression Results}\n",
       "\\end{center}\n",
       "\n",
       "Notes: \\newline\n",
       " [1] Standard Errors assume that the covariance matrix of the errors is correctly specified."
      ],
      "text/plain": [
       "<class 'statsmodels.iolib.summary.Summary'>\n",
       "\"\"\"\n",
       "                            OLS Regression Results                            \n",
       "==============================================================================\n",
       "Dep. Variable:                      y   R-squared:                       0.979\n",
       "Model:                            OLS   Adj. R-squared:                  0.977\n",
       "Method:                 Least Squares   F-statistic:                     704.8\n",
       "Date:                Thu, 29 May 2025   Prob (F-statistic):           1.93e-38\n",
       "Time:                        00:42:02   Log-Likelihood:                -63.417\n",
       "No. Observations:                  50   AIC:                             134.8\n",
       "Df Residuals:                      46   BIC:                             142.5\n",
       "Df Model:                           3                                         \n",
       "Covariance Type:            nonrobust                                         \n",
       "==============================================================================\n",
       "                 coef    std err          t      P>|t|      [0.025      0.975]\n",
       "------------------------------------------------------------------------------\n",
       "x1             0.9827      0.058     16.810      0.000       0.865       1.100\n",
       "x2             3.0755      0.555      5.540      0.000       1.958       4.193\n",
       "x3            -2.9948      0.905     -3.311      0.002      -4.816      -1.174\n",
       "const         10.1591      0.303     33.566      0.000       9.550      10.768\n",
       "==============================================================================\n",
       "Omnibus:                        5.000   Durbin-Watson:                   2.209\n",
       "Prob(Omnibus):                  0.082   Jarque-Bera (JB):                3.852\n",
       "Skew:                          -0.585   Prob(JB):                        0.146\n",
       "Kurtosis:                       3.692   Cond. No.                         96.3\n",
       "==============================================================================\n",
       "\n",
       "Notes:\n",
       "[1] Standard Errors assume that the covariance matrix of the errors is correctly specified.\n",
       "\"\"\""
      ]
     },
     "execution_count": 19,
     "metadata": {},
     "output_type": "execute_result"
    }
   ],
   "source": [
    "model = sm.OLS(y, X)\n",
    "res = model.fit()\n",
    "res.summary()"
   ]
  },
  {
   "cell_type": "code",
   "execution_count": 21,
   "id": "ce130282-67f8-4a8c-9496-19ed4ecdaa10",
   "metadata": {},
   "outputs": [],
   "source": [
    "# Hacemos una función para un plot de comparación como en casos anteriores\n",
    "def plot_compare(res):\n",
    "\n",
    "    prstd, iv_1, iv_u = wls_prediction_std(res)\n",
    "\n",
    "    fig, ax = plt.subplots(figsize=(10,6))\n",
    "    ax.plot(x, y, 'o', label='data')\n",
    "    ax.plot(x, y_true, 'b-', label='True')\n",
    "    ax.plot(x, res.fittedvalues, 'r--', label='OLS')\n",
    "    ax.plot(x, iv_u, 'g--')\n",
    "    ax.plot(x, iv_1, 'g--')\n",
    "    ax.legend(loc='best')"
   ]
  },
  {
   "cell_type": "code",
   "execution_count": 22,
   "id": "58b3febe-e19a-4b77-a672-c3978cc8c90f",
   "metadata": {},
   "outputs": [
    {
     "data": {
      "image/png": "[encoded data removed]",
      "text/plain": [
       "<Figure size 1000x600 with 1 Axes>"
      ]
     },
     "metadata": {},
     "output_type": "display_data"
    }
   ],
   "source": [
    "plot_compare(res)"
   ]
  },
  {
   "cell_type": "code",
   "execution_count": null,
   "id": "9ede2614-0c93-4458-bd41-2a0b3debf265",
   "metadata": {},
   "outputs": [],
   "source": []
  }
 ],
 "metadata": {
  "kernelspec": {
   "display_name": "Python 3 (ipykernel)",
   "language": "python",
   "name": "python3"
  },
  "language_info": {
   "codemirror_mode": {
    "name": "ipython",
    "version": 3
   },
   "file_extension": ".py",
   "mimetype": "text/x-python",
   "name": "python",
   "nbconvert_exporter": "python",
   "pygments_lexer": "ipython3",
   "version": "3.10.16"
  }
 },
 "nbformat": 4,
 "nbformat_minor": 5
}
